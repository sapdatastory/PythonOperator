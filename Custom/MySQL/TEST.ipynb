{
 "cells": [
  {
   "cell_type": "code",
   "execution_count": null,
   "metadata": {},
   "outputs": [],
   "source": []
  },
  {
   "cell_type": "code",
   "execution_count": 4,
   "metadata": {},
   "outputs": [
    {
     "name": "stdout",
     "output_type": "stream",
     "text": [
      "Collecting PyMySQL\n",
      "\u001b[?25l  Downloading https://files.pythonhosted.org/packages/4f/52/a115fe175028b058df353c5a3d5290b71514a83f67078a6482cff24d6137/PyMySQL-1.0.2-py3-none-any.whl (43kB)\n",
      "\u001b[K     |████████████████████████████████| 51kB 18.7MB/s eta 0:00:01\n",
      "\u001b[?25hInstalling collected packages: PyMySQL\n",
      "Successfully installed PyMySQL-1.0.2\n"
     ]
    }
   ],
   "source": [
    "!pip install PyMySQL"
   ]
  },
  {
   "cell_type": "code",
   "execution_count": 5,
   "metadata": {},
   "outputs": [],
   "source": [
    "import pymysql"
   ]
  },
  {
   "cell_type": "code",
   "execution_count": 9,
   "metadata": {},
   "outputs": [],
   "source": [
    "conn = pymysql.connect(\n",
    "    user='bdhe2etests', \n",
    "    passwd='Sapvora123', \n",
    "    host='im-ds-k8s-gcp.datahub.sapcloud.io', \n",
    "    port=31725, \n",
    "    db='SMOKE',\n",
    "    charset='utf8'\n",
    ")"
   ]
  },
  {
   "cell_type": "code",
   "execution_count": 10,
   "metadata": {},
   "outputs": [],
   "source": [
    "curs = conn.cursor()"
   ]
  },
  {
   "cell_type": "code",
   "execution_count": 11,
   "metadata": {},
   "outputs": [],
   "source": [
    "sql = \"select * from QA_EMP\""
   ]
  },
  {
   "cell_type": "code",
   "execution_count": 12,
   "metadata": {},
   "outputs": [
    {
     "data": {
      "text/plain": [
       "13"
      ]
     },
     "execution_count": 12,
     "metadata": {},
     "output_type": "execute_result"
    }
   ],
   "source": [
    "curs.execute(sql)"
   ]
  },
  {
   "cell_type": "code",
   "execution_count": 13,
   "metadata": {},
   "outputs": [],
   "source": [
    "rows = curs.fetchall()"
   ]
  },
  {
   "cell_type": "code",
   "execution_count": 14,
   "metadata": {},
   "outputs": [
    {
     "name": "stdout",
     "output_type": "stream",
     "text": [
      "((Decimal('7788'), 'Scott', 'Analyst', Decimal('7566'), datetime.date(1987, 4, 19), Decimal('3000.00'), None, Decimal('20')), (Decimal('7782'), 'Clark', 'Manager', Decimal('7839'), datetime.date(1987, 6, 9), Decimal('2450.00'), None, Decimal('10')), (Decimal('7521'), 'Ward', 'Salesman', Decimal('7698'), datetime.date(1981, 2, 22), Decimal('1250.00'), Decimal('500.00'), Decimal('30')), (Decimal('7698'), 'Blake', 'Manager', Decimal('7839'), datetime.date(1981, 5, 1), Decimal('2850.00'), None, Decimal('30')), (Decimal('7902'), 'Ford', 'Analyst', Decimal('7566'), datetime.date(1981, 12, 1), Decimal('3000.00'), None, Decimal('20')), (Decimal('7654'), 'Martin', 'Salesman', Decimal('7698'), datetime.date(1981, 8, 28), Decimal('1250.00'), Decimal('1400.00'), Decimal('30')), (Decimal('7900'), 'James', 'Clerk', Decimal('7698'), datetime.date(1981, 12, 3), Decimal('950.00'), None, Decimal('30')), (Decimal('7566'), 'Jones', 'Manager', Decimal('7839'), datetime.date(1981, 4, 1), Decimal('2975.00'), None, Decimal('20')), (Decimal('7934'), 'Miller', 'Clerk', Decimal('7782'), datetime.date(1981, 12, 23), Decimal('1300.00'), None, Decimal('10')), (Decimal('7499'), 'Allen', 'Salesman', Decimal('7698'), datetime.date(1981, 2, 28), Decimal('1600.00'), Decimal('300.00'), Decimal('30')), (Decimal('7844'), 'Turner', 'Salesman', Decimal('7698'), datetime.date(1981, 9, 28), Decimal('1500.00'), None, Decimal('30')), (Decimal('7369'), 'Smith', 'Clerk', Decimal('7902'), datetime.date(1980, 9, 28), Decimal('800.00'), None, Decimal('20')), (Decimal('7876'), 'Adams', 'Clerk', Decimal('7788'), datetime.date(1989, 9, 28), Decimal('1100.00'), None, Decimal('20')))\n"
     ]
    }
   ],
   "source": [
    "print(rows)"
   ]
  },
  {
   "cell_type": "code",
   "execution_count": 15,
   "metadata": {},
   "outputs": [],
   "source": [
    "curs.close()\n",
    "conn.close()"
   ]
  },
  {
   "cell_type": "code",
   "execution_count": null,
   "metadata": {},
   "outputs": [],
   "source": []
  }
 ],
 "metadata": {
  "createdAt": "2021-11-05T05:44:15Z",
  "createdBy": "ac3927u02",
  "description": "",
  "kernelspec": {
   "display_name": "Python 3",
   "language": "python",
   "name": "python3"
  },
  "language_info": {
   "codemirror_mode": {
    "name": "ipython",
    "version": 3
   },
   "file_extension": ".py",
   "mimetype": "text/x-python",
   "name": "python",
   "nbconvert_exporter": "python",
   "pygments_lexer": "ipython3",
   "version": "3.7.3"
  },
  "modifiedAt": "2021-11-05T05:44:15Z",
  "modifiedBy": "ac3927u02",
  "name": "TEST",
  "scenarioId": "1a723c84-2cf7-4094-bd66-5a7119ed7709"
 },
 "nbformat": 4,
 "nbformat_minor": 4
}
